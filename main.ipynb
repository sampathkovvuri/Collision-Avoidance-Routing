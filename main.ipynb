{
 "cells": [
  {
   "cell_type": "code",
   "execution_count": 194,
   "metadata": {},
   "outputs": [],
   "source": [
    "import numpy as np\n",
    "import math\n",
    "from PIL import Image  # for creating visual of our env\n",
    "import cv2  # for showing our visual live"
   ]
  },
  {
   "cell_type": "code",
   "execution_count": 195,
   "metadata": {},
   "outputs": [],
   "source": [
    "class agent:\n",
    "    def __init__(self,start):\n",
    "        self.x = start[0]\n",
    "        self.y = start[1]\n",
    "    \n",
    "    def setit(self,point):\n",
    "        self.x = point[0]\n",
    "        self.y = point[1]\n",
    "\n",
    "    def action(self, choice):\n",
    "        '''\n",
    "        Gives us 4 total movement options. (0,1,2,3)\n",
    "        '''\n",
    "        if choice == 0: #up\n",
    "            self.move(x=-1, y=0)\n",
    "        elif choice == 1: #down\n",
    "            self.move(x=1, y=0)\n",
    "        elif choice == 2: #right\n",
    "            self.move(x=0, y=1)\n",
    "        elif choice == 3: #left\n",
    "            self.move(x=0, y=-1)\n",
    "\n",
    "    def move(self, x, y):\n",
    "        self.x += x\n",
    "        self.y += y\n",
    "\n",
    "\n",
    "        #checking for out of bounds\n",
    "        if self.x < 0:\n",
    "            self.x = 0\n",
    "        elif self.x > SIZE-1:\n",
    "            self.x = SIZE-1\n",
    "        if self.y < 0:\n",
    "            self.y = 0\n",
    "        elif self.y > SIZE-1:\n",
    "            self.y = SIZE-1"
   ]
  },
  {
   "cell_type": "code",
   "execution_count": 196,
   "metadata": {},
   "outputs": [
    {
     "name": "stdout",
     "output_type": "stream",
     "text": [
      "[[0. 0. 0. 0. 0. 0. 0. 0. 0. 0. 0. 0.]\n",
      " [0. 0. 0. 0. 0. 0. 0. 1. 1. 1. 0. 0.]\n",
      " [0. 0. 0. 0. 0. 0. 0. 1. 1. 1. 0. 0.]\n",
      " [0. 1. 1. 0. 0. 0. 0. 1. 1. 1. 0. 0.]\n",
      " [0. 1. 1. 0. 0. 0. 0. 0. 0. 0. 0. 0.]\n",
      " [0. 0. 0. 0. 0. 0. 0. 0. 0. 0. 0. 0.]\n",
      " [0. 0. 0. 0. 0. 0. 0. 0. 0. 0. 0. 0.]\n",
      " [0. 0. 0. 0. 0. 0. 0. 0. 0. 0. 0. 0.]\n",
      " [0. 0. 0. 1. 1. 0. 0. 0. 0. 1. 1. 1.]\n",
      " [0. 0. 0. 1. 1. 0. 0. 0. 0. 1. 1. 1.]\n",
      " [0. 0. 0. 0. 0. 0. 0. 0. 0. 0. 0. 0.]\n",
      " [0. 0. 0. 0. 0. 0. 0. 0. 0. 0. 0. 0.]]\n"
     ]
    }
   ],
   "source": [
    "f = open(\"text.txt\", \"r\")\n",
    "SIZE=12\n",
    "grid=np.zeros((SIZE,SIZE))\n",
    "count=0\n",
    "lines = f.read().splitlines()\n",
    "for line in lines:\n",
    "    #print(line)\n",
    "    grid[count]=line.split(' ')\n",
    "    count=count+1\n",
    "f.close()\n",
    "print(grid)"
   ]
  },
  {
   "cell_type": "code",
   "execution_count": 197,
   "metadata": {},
   "outputs": [
    {
     "name": "stdout",
     "output_type": "stream",
     "text": [
      "[[11, 0], [0, 0], [0, 3], [6, 0], [8, 8]]\n",
      "[[9, 8], [1, 11], [6, 3], [6, 11], [10, 11]]\n",
      "[[[8, 8], [10, 11]], [[0, 3], [6, 3]], [[11, 0], [9, 8]], [[6, 0], [6, 11]], [[0, 0], [1, 11]]]\n",
      "[[8, 8], [0, 3], [11, 0], [6, 0], [0, 0]]\n",
      "[[10, 11], [6, 3], [9, 8], [6, 11], [1, 11]]\n"
     ]
    }
   ],
   "source": [
    "st=[]\n",
    "en=[]\n",
    "g = open(\"points.txt\",\"r\")\n",
    "lins=g.read().splitlines()\n",
    "for lin in lins:\n",
    "    temp=lin.split(' ')\n",
    "    st.append([int(temp[0]),int(temp[1])])\n",
    "    en.append([int(temp[2]),int(temp[3])])\n",
    "print(st)\n",
    "print(en)\n",
    "leng = len(st)\n",
    "points = []\n",
    "for w in range(0,leng):\n",
    "    points.append([st[w],en[w]])\n",
    "points.sort(key = lambda p : abs(p[0][0]-p[1][0]) + abs(p[0][1]-p[1][1]))\n",
    "print(points)\n",
    "for absi in range(0,leng):\n",
    "    st[absi] = points[absi][0]\n",
    "    en[absi] = points[absi][1]\n",
    "print(st)\n",
    "print(en)\n",
    "    "
   ]
  },
  {
   "cell_type": "code",
   "execution_count": 198,
   "metadata": {},
   "outputs": [],
   "source": [
    "q_table=[]\n",
    "for i in range(0,len(st)):\n",
    "    q_table.append(dict())\n",
    "    \n",
    "#initializing q_table\n",
    "for n in range(0,len(st)):\n",
    "    for x in range(0,SIZE):\n",
    "        for y in range(0,SIZE):\n",
    "            for a in range(0,4):\n",
    "                q_table[n][((x,y),a)]=0"
   ]
  },
  {
   "cell_type": "code",
   "execution_count": 199,
   "metadata": {},
   "outputs": [],
   "source": [
    "no_of_ep=500\n",
    "epsilon=1\n",
    "decay=0.998\n",
    "learning_rate=0.1\n",
    "discount_factor=0.8\n",
    "lmbda=0.9"
   ]
  },
  {
   "cell_type": "code",
   "execution_count": 200,
   "metadata": {},
   "outputs": [],
   "source": [
    "#trainings\n",
    "\n",
    "for n in range(0,len(st)):\n",
    "    for episode in range(0,500):\n",
    "        ag=agent(start=st[n])\n",
    "        elgi={}\n",
    "        for x in range(0,SIZE):\n",
    "            for y in range(0,SIZE):\n",
    "                for a in range(0,4):\n",
    "                    elgi[((x,y),a)]=0\n",
    "        ep_rew=0\n",
    "        for step in range(0,100):\n",
    "            current=(ag.x,ag.y)\n",
    "            if np.random.random()>epsilon: #exploitation\n",
    "                action=np.argmax([q_table[n][(current,0)],q_table[n][(current,1)],q_table[n][(current,2)],q_table[n][(current,3)]])\n",
    "            else: #exploration\n",
    "                action=np.random.randint(0,3)\n",
    "            ag.action(action)\n",
    "            new_s=(ag.x,ag.y)\n",
    "            #identify reward\n",
    "            if(grid[ag.x][ag.y]==1): #obstacle\n",
    "                rew=-5\n",
    "            elif(ag.x==en[n][0] and ag.y==en[n][1]): #destination\n",
    "                rew=5\n",
    "            else: #normal free cell\n",
    "                rew=-3\n",
    "            \n",
    "            max_fut_q=max([q_table[n][(new_s,0)],q_table[n][(new_s,1)],q_table[n][(new_s,2)],q_table[n][(new_s,3)]])    \n",
    "            delta=rew+(discount_factor*max_fut_q)-q_table[n][(current,action)]\n",
    "            elgi[(current,action)]+=1\n",
    "        \n",
    "            if new_s[0]==current[0] and new_s[1]==current[1]:\n",
    "                q_table[n][(current,action)]=-50\n",
    "                continue\n",
    "            if rew==-5:\n",
    "                q_table[n][(current,action)]=-50\n",
    "                ag.setit(point=current)\n",
    "                continue\n",
    "            #updating q table\n",
    "            for x in range(0,SIZE):\n",
    "                for y in range(0,SIZE):\n",
    "                    for a in range(0,4):\n",
    "                        q_table[n][((x,y),a)]= q_table[n][((x,y),a)]+(learning_rate*delta*elgi[((x,y),a)])\n",
    "                        elgi[((x,y),a)]=elgi[((x,y),a)]*discount_factor*lmbda\n",
    "            ep_rew+=rew\n",
    "        \n",
    "            if rew==5:\n",
    "                break\n",
    "        epsilon*=decay\n",
    "        "
   ]
  },
  {
   "cell_type": "code",
   "execution_count": 201,
   "metadata": {},
   "outputs": [],
   "source": [
    "occupied_loc=[]\n",
    "for i in range(0,70):\n",
    "    occupied_loc.append(set())"
   ]
  },
  {
   "cell_type": "code",
   "execution_count": 202,
   "metadata": {},
   "outputs": [],
   "source": [
    "def checkfun(new,time):\n",
    "    neighbours=[(0,1),(1,0),(0,-1),(-1,0),(1,-1),(-1,1),(1,1),(-1,-1)]\n",
    "    checklist=set()\n",
    "    for item in neighbours:\n",
    "        checklist.add((new[0]+item[0],new[1]+item[1]))\n",
    "    for item in checklist:\n",
    "        if item in occupied_loc[time]:\n",
    "            return True\n",
    "    return False"
   ]
  },
  {
   "cell_type": "code",
   "execution_count": 203,
   "metadata": {},
   "outputs": [
    {
     "name": "stdout",
     "output_type": "stream",
     "text": [
      "[(8, 8), (9, 8), (10, 8), (10, 9), (10, 10), (10, 11)]\n",
      "[(0, 3), (1, 3), (2, 3), (3, 3), (4, 3), (5, 3), (6, 3)]\n",
      "[(11, 0), (11, 1), (11, 2), (11, 3), (11, 4), (10, 4), (10, 5), (10, 6), (10, 7), (10, 8), (9, 8)]\n",
      "[(6, 0), (6, 1), (6, 2), (6, 3), (6, 4), (6, 5), (6, 6), (6, 7), (6, 8), (6, 9), (6, 10), (6, 11)]\n",
      "[(0, 0), (0, 1), (0, 2), (0, 3), (0, 4), (0, 5), (0, 6), (0, 7), (0, 8), (0, 9), (0, 10), (0, 11), (1, 11)]\n"
     ]
    }
   ],
   "source": [
    "li=[]\n",
    "for n in range(0,len(st)):\n",
    "    li.append(list())\n",
    "\n",
    "for n in range(0,len(st)):\n",
    "    age=agent(start=st[n])\n",
    "    li[n].append(tuple(st[n]))\n",
    "    for tim in range(1,70):\n",
    "        current=(age.x,age.y)\n",
    "        l=[(q_table[n][(current,0)],0),(q_table[n][(current,1)],1),(q_table[n][(current,2)],2),(q_table[n][(current,3)],3)]\n",
    "        l.sort()\n",
    "        l.reverse()\n",
    "        actionset=[l[0][1],l[1][1],l[2][1],l[3][1]]\n",
    "        action=actionset[0]\n",
    "        age.action(action)\n",
    "        new=(age.x,age.y)\n",
    "        ind=1\n",
    "        while ((new in occupied_loc[tim]) or checkfun(new=new,time=tim)) and ind<4:\n",
    "            age.setit(point=current)\n",
    "            action=actionset[ind]\n",
    "            age.action(action)\n",
    "            new=(age.x,age.y)\n",
    "            ind=ind+1\n",
    "        \n",
    "        li[n].append(new)\n",
    "        occupied_loc[tim].add(new)\n",
    "        if new[0]==en[n][0] and new[1]==en[n][1]:\n",
    "            break\n",
    "            \n",
    "            \n",
    "for i in range(0,len(st)):\n",
    "    print(li[i])\n",
    "        "
   ]
  },
  {
   "cell_type": "code",
   "execution_count": 208,
   "metadata": {},
   "outputs": [
    {
     "name": "stdout",
     "output_type": "stream",
     "text": [
      "13\n"
     ]
    }
   ],
   "source": [
    "arr_time=0\n",
    "for l in li:\n",
    "    if len(l)>arr_time:\n",
    "        arr_time=len(l)\n",
    "print(arr_time)"
   ]
  },
  {
   "cell_type": "code",
   "execution_count": 209,
   "metadata": {},
   "outputs": [
    {
     "name": "stdout",
     "output_type": "stream",
     "text": [
      "45\n"
     ]
    }
   ],
   "source": [
    "newset= set()\n",
    "for l in li:\n",
    "    for item in l:\n",
    "        newset.add(item)\n",
    "used_cells=len(newset)\n",
    "print(used_cells)"
   ]
  },
  {
   "cell_type": "code",
   "execution_count": 206,
   "metadata": {
    "scrolled": true
   },
   "outputs": [
    {
     "data": {
      "text/plain": [
       "-1"
      ]
     },
     "execution_count": 206,
     "metadata": {},
     "output_type": "execute_result"
    }
   ],
   "source": [
    "env=np.zeros((SIZE,SIZE,3),dtype=np.uint8)\n",
    "for x in range(0,SIZE):\n",
    "    for y in range(0,SIZE):\n",
    "        if(grid[x][y]==0):\n",
    "            env[x][y]=(255,255,255)\n",
    "temp=[(255,255,0),(0,255,255),(127,255,0),(255,0,255),(192,192,192),(128,0,0),(128,0,128)]            \n",
    "for p in range(0,len(li)):\n",
    "    tr=temp[p]\n",
    "    for point in li[p]:\n",
    "        env[point[0]][point[1]]=tr\n",
    "        \n",
    "img = Image.fromarray(env, 'RGB')  # reading to rgb\n",
    "img = img.resize((300, 300),resample=Image.NEAREST)  # resizing so we can see our agent\n",
    "cv2.imshow(\"image\", np.array(img))  # show it\n",
    "cv2.waitKey(0)"
   ]
  },
  {
   "cell_type": "code",
   "execution_count": 207,
   "metadata": {},
   "outputs": [],
   "source": [
    "img = img.save(\"output.png\")"
   ]
  }
 ],
 "metadata": {
  "kernelspec": {
   "display_name": "Python 3",
   "language": "python",
   "name": "python3"
  },
  "language_info": {
   "codemirror_mode": {
    "name": "ipython",
    "version": 3
   },
   "file_extension": ".py",
   "mimetype": "text/x-python",
   "name": "python",
   "nbconvert_exporter": "python",
   "pygments_lexer": "ipython3",
   "version": "3.8.5"
  }
 },
 "nbformat": 4,
 "nbformat_minor": 4
}
